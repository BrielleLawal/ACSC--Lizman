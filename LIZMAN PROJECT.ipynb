{
 "cells": [
  {
   "cell_type": "code",
   "execution_count": 1,
   "id": "fcc17c85",
   "metadata": {},
   "outputs": [],
   "source": [
    "# first lets import all the libraries we will need \n",
    "import numpy as np\n",
    "import pandas as pd\n",
    "from sklearn.metrics import precision_score,recall_score, f1_score, classification_report, confusion_matrix, accuracy_score\n",
    "from sklearn.impute import SimpleImputer\n",
    "\n",
    "# importing graphing libraries\n",
    "import matplotlib.pyplot as plt\n",
    "import seaborn as sns\n",
    "\n",
    "# importing other things we will need\n",
    "from sklearn.model_selection import train_test_split, StratifiedShuffleSplit\n",
    "from sklearn.preprocessing import StandardScaler, OneHotEncoder, LabelEncoder\n",
    "from sklearn.pipeline import Pipeline\n",
    "from sklearn.compose import ColumnTransformer\n",
    "\n",
    "#importing necessary models\n",
    "from sklearn.linear_model import LogisticRegression\n",
    "from sklearn.ensemble import RandomForestClassifier\n",
    "\n",
    "import warnings\n",
    "warnings.filterwarnings('ignore')\n",
    "import re\n"
   ]
  },
  {
   "cell_type": "code",
   "execution_count": 2,
   "id": "a56b1ad7",
   "metadata": {},
   "outputs": [],
   "source": [
    "# load the dataset \n",
    "train = pd.read_csv(r'C:\\Users\\HP\\Documents\\PROJECTS/ACSC Train.csv')\n",
    "test = pd.read_csv(r'C:\\Users\\HP\\Documents\\PROJECTS/ACSC Test.csv')\n",
    "economic_data = pd.read_csv(r'C:\\Users\\HP\\Documents\\PROJECTS/economic_indicators.csv')"
   ]
  },
  {
   "cell_type": "code",
   "execution_count": 3,
   "id": "5c26c349",
   "metadata": {},
   "outputs": [
    {
     "data": {
      "text/html": [
       "<div>\n",
       "<style scoped>\n",
       "    .dataframe tbody tr th:only-of-type {\n",
       "        vertical-align: middle;\n",
       "    }\n",
       "\n",
       "    .dataframe tbody tr th {\n",
       "        vertical-align: top;\n",
       "    }\n",
       "\n",
       "    .dataframe thead th {\n",
       "        text-align: right;\n",
       "    }\n",
       "</style>\n",
       "<table border=\"1\" class=\"dataframe\">\n",
       "  <thead>\n",
       "    <tr style=\"text-align: right;\">\n",
       "      <th></th>\n",
       "      <th>ID</th>\n",
       "      <th>customer_id</th>\n",
       "      <th>country_id</th>\n",
       "      <th>tbl_loan_id</th>\n",
       "      <th>lender_id</th>\n",
       "      <th>loan_type</th>\n",
       "      <th>Total_Amount</th>\n",
       "      <th>Total_Amount_to_Repay</th>\n",
       "      <th>disbursement_date</th>\n",
       "      <th>due_date</th>\n",
       "      <th>duration</th>\n",
       "      <th>New_versus_Repeat</th>\n",
       "      <th>Amount_Funded_By_Lender</th>\n",
       "      <th>Lender_portion_Funded</th>\n",
       "      <th>Lender_portion_to_be_repaid</th>\n",
       "      <th>target</th>\n",
       "    </tr>\n",
       "  </thead>\n",
       "  <tbody>\n",
       "    <tr>\n",
       "      <th>0</th>\n",
       "      <td>ID_266671248032267278</td>\n",
       "      <td>266671</td>\n",
       "      <td>Kenya</td>\n",
       "      <td>248032</td>\n",
       "      <td>267278</td>\n",
       "      <td>Type_1</td>\n",
       "      <td>8448.0</td>\n",
       "      <td>8448.0</td>\n",
       "      <td>2022-08-30</td>\n",
       "      <td>2022-09-06</td>\n",
       "      <td>7</td>\n",
       "      <td>Repeat Loan</td>\n",
       "      <td>120.85</td>\n",
       "      <td>0.014305</td>\n",
       "      <td>121.0</td>\n",
       "      <td>0</td>\n",
       "    </tr>\n",
       "    <tr>\n",
       "      <th>1</th>\n",
       "      <td>ID_248919228515267278</td>\n",
       "      <td>248919</td>\n",
       "      <td>Kenya</td>\n",
       "      <td>228515</td>\n",
       "      <td>267278</td>\n",
       "      <td>Type_1</td>\n",
       "      <td>25895.0</td>\n",
       "      <td>25979.0</td>\n",
       "      <td>2022-07-30</td>\n",
       "      <td>2022-08-06</td>\n",
       "      <td>7</td>\n",
       "      <td>Repeat Loan</td>\n",
       "      <td>7768.50</td>\n",
       "      <td>0.300000</td>\n",
       "      <td>7794.0</td>\n",
       "      <td>0</td>\n",
       "    </tr>\n",
       "    <tr>\n",
       "      <th>2</th>\n",
       "      <td>ID_308486370501251804</td>\n",
       "      <td>308486</td>\n",
       "      <td>Kenya</td>\n",
       "      <td>370501</td>\n",
       "      <td>251804</td>\n",
       "      <td>Type_7</td>\n",
       "      <td>6900.0</td>\n",
       "      <td>7142.0</td>\n",
       "      <td>2024-09-06</td>\n",
       "      <td>2024-09-13</td>\n",
       "      <td>7</td>\n",
       "      <td>Repeat Loan</td>\n",
       "      <td>1380.00</td>\n",
       "      <td>0.200000</td>\n",
       "      <td>1428.0</td>\n",
       "      <td>0</td>\n",
       "    </tr>\n",
       "    <tr>\n",
       "      <th>3</th>\n",
       "      <td>ID_266004285009267278</td>\n",
       "      <td>266004</td>\n",
       "      <td>Kenya</td>\n",
       "      <td>285009</td>\n",
       "      <td>267278</td>\n",
       "      <td>Type_1</td>\n",
       "      <td>8958.0</td>\n",
       "      <td>9233.0</td>\n",
       "      <td>2022-10-20</td>\n",
       "      <td>2022-10-27</td>\n",
       "      <td>7</td>\n",
       "      <td>Repeat Loan</td>\n",
       "      <td>2687.40</td>\n",
       "      <td>0.300000</td>\n",
       "      <td>2770.0</td>\n",
       "      <td>0</td>\n",
       "    </tr>\n",
       "    <tr>\n",
       "      <th>4</th>\n",
       "      <td>ID_253803305312267278</td>\n",
       "      <td>253803</td>\n",
       "      <td>Kenya</td>\n",
       "      <td>305312</td>\n",
       "      <td>267278</td>\n",
       "      <td>Type_1</td>\n",
       "      <td>4564.0</td>\n",
       "      <td>4728.0</td>\n",
       "      <td>2022-11-28</td>\n",
       "      <td>2022-12-05</td>\n",
       "      <td>7</td>\n",
       "      <td>Repeat Loan</td>\n",
       "      <td>1369.20</td>\n",
       "      <td>0.300000</td>\n",
       "      <td>1418.0</td>\n",
       "      <td>0</td>\n",
       "    </tr>\n",
       "  </tbody>\n",
       "</table>\n",
       "</div>"
      ],
      "text/plain": [
       "                      ID  customer_id country_id  tbl_loan_id  lender_id  \\\n",
       "0  ID_266671248032267278       266671      Kenya       248032     267278   \n",
       "1  ID_248919228515267278       248919      Kenya       228515     267278   \n",
       "2  ID_308486370501251804       308486      Kenya       370501     251804   \n",
       "3  ID_266004285009267278       266004      Kenya       285009     267278   \n",
       "4  ID_253803305312267278       253803      Kenya       305312     267278   \n",
       "\n",
       "  loan_type  Total_Amount  Total_Amount_to_Repay disbursement_date  \\\n",
       "0    Type_1        8448.0                 8448.0        2022-08-30   \n",
       "1    Type_1       25895.0                25979.0        2022-07-30   \n",
       "2    Type_7        6900.0                 7142.0        2024-09-06   \n",
       "3    Type_1        8958.0                 9233.0        2022-10-20   \n",
       "4    Type_1        4564.0                 4728.0        2022-11-28   \n",
       "\n",
       "     due_date  duration New_versus_Repeat  Amount_Funded_By_Lender  \\\n",
       "0  2022-09-06         7       Repeat Loan                   120.85   \n",
       "1  2022-08-06         7       Repeat Loan                  7768.50   \n",
       "2  2024-09-13         7       Repeat Loan                  1380.00   \n",
       "3  2022-10-27         7       Repeat Loan                  2687.40   \n",
       "4  2022-12-05         7       Repeat Loan                  1369.20   \n",
       "\n",
       "   Lender_portion_Funded  Lender_portion_to_be_repaid  target  \n",
       "0               0.014305                        121.0       0  \n",
       "1               0.300000                       7794.0       0  \n",
       "2               0.200000                       1428.0       0  \n",
       "3               0.300000                       2770.0       0  \n",
       "4               0.300000                       1418.0       0  "
      ]
     },
     "execution_count": 3,
     "metadata": {},
     "output_type": "execute_result"
    }
   ],
   "source": [
    "train.head()"
   ]
  },
  {
   "cell_type": "code",
   "execution_count": 4,
   "id": "76ed87d1",
   "metadata": {},
   "outputs": [
    {
     "data": {
      "text/plain": [
       "(68654, 16)"
      ]
     },
     "execution_count": 4,
     "metadata": {},
     "output_type": "execute_result"
    }
   ],
   "source": [
    "# checking the train dataset shape\n",
    "train.shape"
   ]
  },
  {
   "cell_type": "code",
   "execution_count": 5,
   "id": "4bfde2f8",
   "metadata": {},
   "outputs": [
    {
     "data": {
      "text/plain": [
       "array(['Type_1', 'Type_7', 'Type_5', 'Type_4', 'Type_6', 'Type_14',\n",
       "       'Type_9', 'Type_10', 'Type_19', 'Type_16', 'Type_2', 'Type_11',\n",
       "       'Type_23', 'Type_18', 'Type_17', 'Type_12', 'Type_20', 'Type_13',\n",
       "       'Type_21', 'Type_15', 'Type_24', 'Type_22'], dtype=object)"
      ]
     },
     "execution_count": 5,
     "metadata": {},
     "output_type": "execute_result"
    }
   ],
   "source": [
    "train['loan_type'].unique()"
   ]
  },
  {
   "cell_type": "code",
   "execution_count": 6,
   "id": "353b1e72",
   "metadata": {},
   "outputs": [],
   "source": [
    "b = ['Type_1', 'Type_7', 'Type_5', 'Type_4', 'Type_6', 'Type_14',\n",
    "       'Type_9', 'Type_10', 'Type_19', 'Type_16', 'Type_2', 'Type_11',\n",
    "       'Type_23', 'Type_18', 'Type_17', 'Type_12', 'Type_20', 'Type_13',\n",
    "       'Type_21', 'Type_15', 'Type_24', 'Type_22']"
   ]
  },
  {
   "cell_type": "code",
   "execution_count": 7,
   "id": "8bd388e7",
   "metadata": {},
   "outputs": [],
   "source": [
    "a = np.array(train['loan_type'].value_counts())\n",
    "a = a.reshape(-1,1)"
   ]
  },
  {
   "cell_type": "code",
   "execution_count": 8,
   "id": "bcad1abd",
   "metadata": {},
   "outputs": [],
   "source": [
    "defaulters_by_loan_type = train.groupby(['loan_type'])[['target']].sum()\n",
    "c = defaulters_by_loan_type.loc[b]\n",
    "c = np.array(c.values)"
   ]
  },
  {
   "cell_type": "code",
   "execution_count": 10,
   "id": "0e318371",
   "metadata": {},
   "outputs": [
    {
     "data": {
      "text/html": [
       "<div>\n",
       "<style scoped>\n",
       "    .dataframe tbody tr th:only-of-type {\n",
       "        vertical-align: middle;\n",
       "    }\n",
       "\n",
       "    .dataframe tbody tr th {\n",
       "        vertical-align: top;\n",
       "    }\n",
       "\n",
       "    .dataframe thead th {\n",
       "        text-align: right;\n",
       "    }\n",
       "</style>\n",
       "<table border=\"1\" class=\"dataframe\">\n",
       "  <thead>\n",
       "    <tr style=\"text-align: right;\">\n",
       "      <th></th>\n",
       "      <th>Loans</th>\n",
       "      <th>Defaulters</th>\n",
       "    </tr>\n",
       "  </thead>\n",
       "  <tbody>\n",
       "    <tr>\n",
       "      <th>Type_1</th>\n",
       "      <td>61723</td>\n",
       "      <td>520</td>\n",
       "    </tr>\n",
       "    <tr>\n",
       "      <th>Type_7</th>\n",
       "      <td>2790</td>\n",
       "      <td>235</td>\n",
       "    </tr>\n",
       "    <tr>\n",
       "      <th>Type_5</th>\n",
       "      <td>1521</td>\n",
       "      <td>122</td>\n",
       "    </tr>\n",
       "    <tr>\n",
       "      <th>Type_4</th>\n",
       "      <td>1235</td>\n",
       "      <td>152</td>\n",
       "    </tr>\n",
       "    <tr>\n",
       "      <th>Type_6</th>\n",
       "      <td>466</td>\n",
       "      <td>38</td>\n",
       "    </tr>\n",
       "    <tr>\n",
       "      <th>Type_14</th>\n",
       "      <td>357</td>\n",
       "      <td>71</td>\n",
       "    </tr>\n",
       "    <tr>\n",
       "      <th>Type_9</th>\n",
       "      <td>205</td>\n",
       "      <td>36</td>\n",
       "    </tr>\n",
       "    <tr>\n",
       "      <th>Type_10</th>\n",
       "      <td>99</td>\n",
       "      <td>12</td>\n",
       "    </tr>\n",
       "    <tr>\n",
       "      <th>Type_19</th>\n",
       "      <td>74</td>\n",
       "      <td>0</td>\n",
       "    </tr>\n",
       "    <tr>\n",
       "      <th>Type_16</th>\n",
       "      <td>42</td>\n",
       "      <td>0</td>\n",
       "    </tr>\n",
       "    <tr>\n",
       "      <th>Type_2</th>\n",
       "      <td>30</td>\n",
       "      <td>45</td>\n",
       "    </tr>\n",
       "    <tr>\n",
       "      <th>Type_11</th>\n",
       "      <td>23</td>\n",
       "      <td>2</td>\n",
       "    </tr>\n",
       "    <tr>\n",
       "      <th>Type_23</th>\n",
       "      <td>21</td>\n",
       "      <td>13</td>\n",
       "    </tr>\n",
       "    <tr>\n",
       "      <th>Type_18</th>\n",
       "      <td>18</td>\n",
       "      <td>1</td>\n",
       "    </tr>\n",
       "    <tr>\n",
       "      <th>Type_17</th>\n",
       "      <td>13</td>\n",
       "      <td>0</td>\n",
       "    </tr>\n",
       "    <tr>\n",
       "      <th>Type_12</th>\n",
       "      <td>12</td>\n",
       "      <td>1</td>\n",
       "    </tr>\n",
       "    <tr>\n",
       "      <th>Type_20</th>\n",
       "      <td>10</td>\n",
       "      <td>7</td>\n",
       "    </tr>\n",
       "    <tr>\n",
       "      <th>Type_13</th>\n",
       "      <td>4</td>\n",
       "      <td>0</td>\n",
       "    </tr>\n",
       "    <tr>\n",
       "      <th>Type_21</th>\n",
       "      <td>4</td>\n",
       "      <td>0</td>\n",
       "    </tr>\n",
       "    <tr>\n",
       "      <th>Type_15</th>\n",
       "      <td>3</td>\n",
       "      <td>3</td>\n",
       "    </tr>\n",
       "    <tr>\n",
       "      <th>Type_24</th>\n",
       "      <td>3</td>\n",
       "      <td>0</td>\n",
       "    </tr>\n",
       "    <tr>\n",
       "      <th>Type_22</th>\n",
       "      <td>1</td>\n",
       "      <td>0</td>\n",
       "    </tr>\n",
       "  </tbody>\n",
       "</table>\n",
       "</div>"
      ],
      "text/plain": [
       "         Loans  Defaulters\n",
       "Type_1   61723         520\n",
       "Type_7    2790         235\n",
       "Type_5    1521         122\n",
       "Type_4    1235         152\n",
       "Type_6     466          38\n",
       "Type_14    357          71\n",
       "Type_9     205          36\n",
       "Type_10     99          12\n",
       "Type_19     74           0\n",
       "Type_16     42           0\n",
       "Type_2      30          45\n",
       "Type_11     23           2\n",
       "Type_23     21          13\n",
       "Type_18     18           1\n",
       "Type_17     13           0\n",
       "Type_12     12           1\n",
       "Type_20     10           7\n",
       "Type_13      4           0\n",
       "Type_21      4           0\n",
       "Type_15      3           3\n",
       "Type_24      3           0\n",
       "Type_22      1           0"
      ]
     },
     "execution_count": 10,
     "metadata": {},
     "output_type": "execute_result"
    }
   ],
   "source": [
    "# Corrected DataFrame creation\n",
    "defaultion_by_loan_type = pd.DataFrame(\n",
    "    data=np.concatenate((a, c), axis=1), \n",
    "    columns=['Loans', 'Defaulters'],  \n",
    "    index=train['loan_type'].unique()  \n",
    ")\n",
    "\n",
    "defaultion_by_loan_type\n"
   ]
  },
  {
   "cell_type": "code",
   "execution_count": null,
   "id": "a1f7d393",
   "metadata": {},
   "outputs": [],
   "source": [
    "economic_data.rename(columns={'Country': 'country_id'}, inplace=True)"
   ]
  },
  {
   "cell_type": "code",
   "execution_count": null,
   "id": "10a47f44",
   "metadata": {},
   "outputs": [],
   "source": [
    "def preprocess_and_merge(dataset, economic_data, country_filter):\n",
    "    # Convert 'Disbursement Date' to datetime format and extract the year\n",
    "    dataset['disbursement_date'] = pd.to_datetime(dataset['disbursement_date'], errors='coerce')\n",
    "    dataset['Year'] = dataset['disbursement_date'].dt.year\n",
    "\n",
    "    # Filter economic data for specified countries\n",
    "    economic_filtered = economic_data[economic_data['country_id'].isin(country_filter)]\n",
    "\n",
    "    # Pivot economic indicators to have years as columns\n",
    "    economic_pivot = economic_filtered.pivot_table(\n",
    "        index=['country_id', 'Indicator'], \n",
    "        columns='Year', \n",
    "        values='Value'\n",
    "    ).reset_index()\n",
    "\n",
    "    # Rename columns for clarity after pivoting\n",
    "    economic_pivot = economic_pivot.rename(columns={2021: 'YR2021', 2022: 'YR2022', 2023: 'YR2023'})\n",
    "\n",
    "    # Merge economic indicators with the dataset\n",
    "    enriched_data = pd.merge(\n",
    "        dataset, \n",
    "        economic_pivot, \n",
    "        how='left', \n",
    "        left_on=['country_id'], \n",
    "        right_on=['country_id']\n",
    "    )\n",
    "\n",
    "    # Handle missing values\n",
    "    enriched_data[['YR2021', 'YR2022', 'YR2023']] = enriched_data[['YR2021', 'YR2022', 'YR2023']].fillna(\n",
    "        enriched_data[['YR2021', 'YR2022', 'YR2023']].median()\n",
    "    )\n",
    "\n",
    "    # Select the required columns\n",
    "    final_data = enriched_data[[\n",
    "        'ID', 'customer_id', 'country_id', 'tbl_loan_id', 'lender_id', 'loan_type',\n",
    "        'Total_Amount', 'Total_Amount_to_Repay', 'disbursement_date', 'due_date',\n",
    "        'duration', 'New_versus_Repeat', 'Amount_Funded_By_Lender', \n",
    "        'Lender_portion_Funded', 'Lender_portion_to_be_repaid', 'target', 'Indicator',\n",
    "        'YR2021', 'YR2022', 'YR2023'\n",
    "    ]]\n",
    "    \n",
    "       # Return the final DataFrame\n",
    "    return final_data\n"
   ]
  },
  {
   "cell_type": "code",
   "execution_count": null,
   "id": "cbb166e1",
   "metadata": {},
   "outputs": [],
   "source": [
    "# Reshape the Economic Indicator Dataset\n",
    "# Melt the economic data to long format\n",
    "economic_long = economic_data.melt(\n",
    "    id_vars=['country_id', 'Indicator'], \n",
    "    var_name='Year', \n",
    "    value_name='Value'\n",
    ")\n"
   ]
  },
  {
   "cell_type": "code",
   "execution_count": null,
   "id": "954981d1",
   "metadata": {},
   "outputs": [],
   "source": [
    "# Convert the 'Year' column to numeric format\n",
    "economic_long['Year'] = economic_long['Year'].str.extract('(\\\\d+)').astype(int)\n",
    "\n",
    "# Filter for relevant years (2021-2023)\n",
    "economic_long_filtered = economic_long[economic_long['Year'].isin([2021, 2022, 2023])]"
   ]
  },
  {
   "cell_type": "code",
   "execution_count": null,
   "id": "c93f3c31",
   "metadata": {},
   "outputs": [],
   "source": [
    "# Preprocess and merge for Train Dataset\n",
    "train= preprocess_and_merge(\n",
    "    train, \n",
    "    economic_long_filtered, \n",
    "    country_filter=['Kenya'] )"
   ]
  },
  {
   "cell_type": "code",
   "execution_count": null,
   "id": "693243f9",
   "metadata": {},
   "outputs": [],
   "source": [
    "# a function to check for missing values\n",
    "def missing_values(df):\n",
    "    start_isna_sum = test.isna().sum().sort_values(ascending=False)\n",
    "    print (start_isna_sum)"
   ]
  },
  {
   "cell_type": "code",
   "execution_count": null,
   "id": "955a8ab6",
   "metadata": {},
   "outputs": [],
   "source": [
    "# checking for missing data in the train dataset\n",
    "missing_values(train)"
   ]
  },
  {
   "cell_type": "code",
   "execution_count": null,
   "id": "6fd3a02e",
   "metadata": {},
   "outputs": [],
   "source": [
    "train.info()"
   ]
  },
  {
   "cell_type": "code",
   "execution_count": null,
   "id": "8f5dbc78",
   "metadata": {},
   "outputs": [],
   "source": [
    "corr_matrix = data.corr()\n",
    "corr_matrix['target'].sort_values(ascending=False)"
   ]
  },
  {
   "cell_type": "code",
   "execution_count": null,
   "id": "a80acedc",
   "metadata": {},
   "outputs": [],
   "source": [
    "%matplotlib inline\n",
    "data.hist(bins=50, figsize=(20, 15))\n",
    "plt.show()"
   ]
  },
  {
   "cell_type": "code",
   "execution_count": null,
   "id": "b3a6cdbd",
   "metadata": {},
   "outputs": [],
   "source": [
    "# Drop irrelevant columns\n",
    "train.drop(['ID', 'customer_id', 'tbl_loan_id', 'lender_id'], axis=1, inplace=True)"
   ]
  },
  {
   "cell_type": "code",
   "execution_count": null,
   "id": "23836111",
   "metadata": {},
   "outputs": [],
   "source": [
    "# Define target and features\n",
    "y = train['target']\n",
    "X = train.drop('target', axis=1)"
   ]
  },
  {
   "cell_type": "code",
   "execution_count": null,
   "id": "f2567ab1",
   "metadata": {},
   "outputs": [],
   "source": [
    "# Create new features\n",
    "X['Loan_Age'] = (pd.to_datetime(X['due_date']) - pd.to_datetime(X['disbursement_date'])).dt.days\n",
    "X['Repayment_Ratio'] = X['Total_Amount_to_Repay'] / X['Total_Amount']\n",
    "X['Funding_Gap'] = X['Total_Amount'] - X['Amount_Funded_By_Lender']"
   ]
  },
  {
   "cell_type": "code",
   "execution_count": null,
   "id": "f62698e8",
   "metadata": {},
   "outputs": [],
   "source": [
    "# Drop date columns after creating features\n",
    "X.drop(['disbursement_date', 'due_date'], axis=1, inplace=True)"
   ]
  },
  {
   "cell_type": "code",
   "execution_count": null,
   "id": "1e29c32c",
   "metadata": {},
   "outputs": [],
   "source": [
    "# Define categorical and numeric features\n",
    "categorical_features = ['country_id', 'loan_type', 'New_versus_Repeat']\n",
    "numeric_features = ['Total_Amount', 'Total_Amount_to_Repay', 'Loan_Age', 'Repayment_Ratio', 'Funding_Gap']"
   ]
  },
  {
   "cell_type": "code",
   "execution_count": null,
   "id": "1a0729e2",
   "metadata": {},
   "outputs": [],
   "source": [
    "# Preprocessing pipeline\n",
    "preprocessor = ColumnTransformer(\n",
    "    transformers=[\n",
    "        ('num', StandardScaler(), numeric_features),\n",
    "        ('cat', OneHotEncoder(handle_unknown='ignore'), categorical_features)\n",
    "    ])"
   ]
  },
  {
   "cell_type": "code",
   "execution_count": null,
   "id": "c131ed4e",
   "metadata": {},
   "outputs": [],
   "source": [
    "# Complete pipeline\n",
    "pipeline = Pipeline([\n",
    "    ('preprocessor', preprocessor),\n",
    "    ('classifier', RandomForestClassifier(random_state=42))\n",
    "])"
   ]
  },
  {
   "cell_type": "code",
   "execution_count": null,
   "id": "c2da348e",
   "metadata": {},
   "outputs": [],
   "source": [
    "# Split data\n",
    "X_train, X_val, y_train, y_val = train_test_split(X, y, test_size=0.2, random_state=42)"
   ]
  },
  {
   "cell_type": "code",
   "execution_count": null,
   "id": "4926049e",
   "metadata": {},
   "outputs": [],
   "source": [
    "# Train the model\n",
    "pipeline.fit(X_train, y_train)"
   ]
  },
  {
   "cell_type": "code",
   "execution_count": null,
   "id": "07d50192",
   "metadata": {},
   "outputs": [],
   "source": [
    "# Evaluate the model\n",
    "y_pred = pipeline.predict(X_val)\n",
    "print(classification_report(y_val, y_pred))"
   ]
  },
  {
   "cell_type": "code",
   "execution_count": null,
   "id": "5d190e59",
   "metadata": {},
   "outputs": [],
   "source": []
  },
  {
   "cell_type": "code",
   "execution_count": null,
   "id": "fc91d69d",
   "metadata": {},
   "outputs": [],
   "source": []
  },
  {
   "cell_type": "code",
   "execution_count": null,
   "id": "45475d86",
   "metadata": {},
   "outputs": [],
   "source": []
  },
  {
   "cell_type": "code",
   "execution_count": null,
   "id": "03e68d85",
   "metadata": {},
   "outputs": [],
   "source": []
  },
  {
   "cell_type": "code",
   "execution_count": null,
   "id": "81a01aef",
   "metadata": {},
   "outputs": [],
   "source": []
  },
  {
   "cell_type": "code",
   "execution_count": null,
   "id": "99432df7",
   "metadata": {},
   "outputs": [],
   "source": []
  },
  {
   "cell_type": "code",
   "execution_count": null,
   "id": "62cb24fb",
   "metadata": {},
   "outputs": [],
   "source": []
  },
  {
   "cell_type": "code",
   "execution_count": null,
   "id": "13587195",
   "metadata": {},
   "outputs": [],
   "source": []
  }
 ],
 "metadata": {
  "kernelspec": {
   "display_name": "Python 3 (ipykernel)",
   "language": "python",
   "name": "python3"
  },
  "language_info": {
   "codemirror_mode": {
    "name": "ipython",
    "version": 3
   },
   "file_extension": ".py",
   "mimetype": "text/x-python",
   "name": "python",
   "nbconvert_exporter": "python",
   "pygments_lexer": "ipython3",
   "version": "3.11.4"
  }
 },
 "nbformat": 4,
 "nbformat_minor": 5
}
