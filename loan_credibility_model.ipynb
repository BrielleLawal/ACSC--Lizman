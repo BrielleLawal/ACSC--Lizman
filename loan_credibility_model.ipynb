{
 "cells": [
  {
   "cell_type": "markdown",
   "id": "3fc89cd2-cc5f-425c-8ec8-e1b201801d12",
   "metadata": {},
   "source": [
    "### Import Libraries"
   ]
  },
  {
   "cell_type": "code",
   "execution_count": 1,
   "id": "9ce08cee-c60c-4248-8c57-76d59e6f2ef4",
   "metadata": {},
   "outputs": [],
   "source": [
    "import numpy as np \n",
    "import pandas as pd \n",
    "import matplotlib.pyplot as plt \n",
    "import seaborn as sns \n",
    "sns.set()"
   ]
  },
  {
   "cell_type": "markdown",
   "id": "d22c0ee7-02a0-45b7-922a-582d72763d3c",
   "metadata": {},
   "source": [
    "### Import Data"
   ]
  },
  {
   "cell_type": "code",
   "execution_count": 40,
   "id": "be3b7cc5-d079-4ae5-a2b9-2c7b2cff0a81",
   "metadata": {},
   "outputs": [
    {
     "data": {
      "text/html": [
       "<div>\n",
       "<style scoped>\n",
       "    .dataframe tbody tr th:only-of-type {\n",
       "        vertical-align: middle;\n",
       "    }\n",
       "\n",
       "    .dataframe tbody tr th {\n",
       "        vertical-align: top;\n",
       "    }\n",
       "\n",
       "    .dataframe thead th {\n",
       "        text-align: right;\n",
       "    }\n",
       "</style>\n",
       "<table border=\"1\" class=\"dataframe\">\n",
       "  <thead>\n",
       "    <tr style=\"text-align: right;\">\n",
       "      <th></th>\n",
       "      <th>ID</th>\n",
       "      <th>customer_id</th>\n",
       "      <th>country_id</th>\n",
       "      <th>tbl_loan_id</th>\n",
       "      <th>lender_id</th>\n",
       "      <th>loan_type</th>\n",
       "      <th>Total_Amount</th>\n",
       "      <th>Total_Amount_to_Repay</th>\n",
       "      <th>disbursement_date</th>\n",
       "      <th>due_date</th>\n",
       "      <th>duration</th>\n",
       "      <th>New_versus_Repeat</th>\n",
       "      <th>Amount_Funded_By_Lender</th>\n",
       "      <th>Lender_portion_Funded</th>\n",
       "      <th>Lender_portion_to_be_repaid</th>\n",
       "      <th>target</th>\n",
       "    </tr>\n",
       "  </thead>\n",
       "  <tbody>\n",
       "    <tr>\n",
       "      <th>0</th>\n",
       "      <td>ID_266671248032267278</td>\n",
       "      <td>266671</td>\n",
       "      <td>Kenya</td>\n",
       "      <td>248032</td>\n",
       "      <td>267278</td>\n",
       "      <td>Type_1</td>\n",
       "      <td>8448.0</td>\n",
       "      <td>8448.0</td>\n",
       "      <td>2022-08-30</td>\n",
       "      <td>2022-09-06</td>\n",
       "      <td>7</td>\n",
       "      <td>Repeat Loan</td>\n",
       "      <td>120.85</td>\n",
       "      <td>0.014305</td>\n",
       "      <td>121.0</td>\n",
       "      <td>0</td>\n",
       "    </tr>\n",
       "    <tr>\n",
       "      <th>1</th>\n",
       "      <td>ID_248919228515267278</td>\n",
       "      <td>248919</td>\n",
       "      <td>Kenya</td>\n",
       "      <td>228515</td>\n",
       "      <td>267278</td>\n",
       "      <td>Type_1</td>\n",
       "      <td>25895.0</td>\n",
       "      <td>25979.0</td>\n",
       "      <td>2022-07-30</td>\n",
       "      <td>2022-08-06</td>\n",
       "      <td>7</td>\n",
       "      <td>Repeat Loan</td>\n",
       "      <td>7768.50</td>\n",
       "      <td>0.300000</td>\n",
       "      <td>7794.0</td>\n",
       "      <td>0</td>\n",
       "    </tr>\n",
       "    <tr>\n",
       "      <th>2</th>\n",
       "      <td>ID_308486370501251804</td>\n",
       "      <td>308486</td>\n",
       "      <td>Kenya</td>\n",
       "      <td>370501</td>\n",
       "      <td>251804</td>\n",
       "      <td>Type_7</td>\n",
       "      <td>6900.0</td>\n",
       "      <td>7142.0</td>\n",
       "      <td>2024-09-06</td>\n",
       "      <td>2024-09-13</td>\n",
       "      <td>7</td>\n",
       "      <td>Repeat Loan</td>\n",
       "      <td>1380.00</td>\n",
       "      <td>0.200000</td>\n",
       "      <td>1428.0</td>\n",
       "      <td>0</td>\n",
       "    </tr>\n",
       "    <tr>\n",
       "      <th>3</th>\n",
       "      <td>ID_266004285009267278</td>\n",
       "      <td>266004</td>\n",
       "      <td>Kenya</td>\n",
       "      <td>285009</td>\n",
       "      <td>267278</td>\n",
       "      <td>Type_1</td>\n",
       "      <td>8958.0</td>\n",
       "      <td>9233.0</td>\n",
       "      <td>2022-10-20</td>\n",
       "      <td>2022-10-27</td>\n",
       "      <td>7</td>\n",
       "      <td>Repeat Loan</td>\n",
       "      <td>2687.40</td>\n",
       "      <td>0.300000</td>\n",
       "      <td>2770.0</td>\n",
       "      <td>0</td>\n",
       "    </tr>\n",
       "    <tr>\n",
       "      <th>4</th>\n",
       "      <td>ID_253803305312267278</td>\n",
       "      <td>253803</td>\n",
       "      <td>Kenya</td>\n",
       "      <td>305312</td>\n",
       "      <td>267278</td>\n",
       "      <td>Type_1</td>\n",
       "      <td>4564.0</td>\n",
       "      <td>4728.0</td>\n",
       "      <td>2022-11-28</td>\n",
       "      <td>2022-12-05</td>\n",
       "      <td>7</td>\n",
       "      <td>Repeat Loan</td>\n",
       "      <td>1369.20</td>\n",
       "      <td>0.300000</td>\n",
       "      <td>1418.0</td>\n",
       "      <td>0</td>\n",
       "    </tr>\n",
       "  </tbody>\n",
       "</table>\n",
       "</div>"
      ],
      "text/plain": [
       "                      ID  customer_id country_id  tbl_loan_id  lender_id  \\\n",
       "0  ID_266671248032267278       266671      Kenya       248032     267278   \n",
       "1  ID_248919228515267278       248919      Kenya       228515     267278   \n",
       "2  ID_308486370501251804       308486      Kenya       370501     251804   \n",
       "3  ID_266004285009267278       266004      Kenya       285009     267278   \n",
       "4  ID_253803305312267278       253803      Kenya       305312     267278   \n",
       "\n",
       "  loan_type  Total_Amount  Total_Amount_to_Repay disbursement_date  \\\n",
       "0    Type_1        8448.0                 8448.0        2022-08-30   \n",
       "1    Type_1       25895.0                25979.0        2022-07-30   \n",
       "2    Type_7        6900.0                 7142.0        2024-09-06   \n",
       "3    Type_1        8958.0                 9233.0        2022-10-20   \n",
       "4    Type_1        4564.0                 4728.0        2022-11-28   \n",
       "\n",
       "     due_date  duration New_versus_Repeat  Amount_Funded_By_Lender  \\\n",
       "0  2022-09-06         7       Repeat Loan                   120.85   \n",
       "1  2022-08-06         7       Repeat Loan                  7768.50   \n",
       "2  2024-09-13         7       Repeat Loan                  1380.00   \n",
       "3  2022-10-27         7       Repeat Loan                  2687.40   \n",
       "4  2022-12-05         7       Repeat Loan                  1369.20   \n",
       "\n",
       "   Lender_portion_Funded  Lender_portion_to_be_repaid  target  \n",
       "0               0.014305                        121.0       0  \n",
       "1               0.300000                       7794.0       0  \n",
       "2               0.200000                       1428.0       0  \n",
       "3               0.300000                       2770.0       0  \n",
       "4               0.300000                       1418.0       0  "
      ]
     },
     "execution_count": 40,
     "metadata": {},
     "output_type": "execute_result"
    }
   ],
   "source": [
    "dataset = pd.read_csv(\"Train.csv\")\n",
    "data = dataset.copy()\n",
    "data.head()"
   ]
  },
  {
   "cell_type": "code",
   "execution_count": 3,
   "id": "6497640c-6de6-4ff7-9ac6-34061d26163d",
   "metadata": {},
   "outputs": [
    {
     "name": "stdout",
     "output_type": "stream",
     "text": [
      "<class 'pandas.core.frame.DataFrame'>\n",
      "RangeIndex: 68654 entries, 0 to 68653\n",
      "Data columns (total 16 columns):\n",
      " #   Column                       Non-Null Count  Dtype  \n",
      "---  ------                       --------------  -----  \n",
      " 0   ID                           68654 non-null  object \n",
      " 1   customer_id                  68654 non-null  int64  \n",
      " 2   country_id                   68654 non-null  object \n",
      " 3   tbl_loan_id                  68654 non-null  int64  \n",
      " 4   lender_id                    68654 non-null  int64  \n",
      " 5   loan_type                    68654 non-null  object \n",
      " 6   Total_Amount                 68654 non-null  float64\n",
      " 7   Total_Amount_to_Repay        68654 non-null  float64\n",
      " 8   disbursement_date            68654 non-null  object \n",
      " 9   due_date                     68654 non-null  object \n",
      " 10  duration                     68654 non-null  int64  \n",
      " 11  New_versus_Repeat            68654 non-null  object \n",
      " 12  Amount_Funded_By_Lender      68654 non-null  float64\n",
      " 13  Lender_portion_Funded        68654 non-null  float64\n",
      " 14  Lender_portion_to_be_repaid  68654 non-null  float64\n",
      " 15  target                       68654 non-null  int64  \n",
      "dtypes: float64(5), int64(5), object(6)\n",
      "memory usage: 8.4+ MB\n"
     ]
    }
   ],
   "source": [
    "data.info()"
   ]
  },
  {
   "cell_type": "code",
   "execution_count": 4,
   "id": "b2666af1-bc2a-4197-bdb7-8673212645d5",
   "metadata": {},
   "outputs": [
    {
     "data": {
      "text/plain": [
       "(68654, 16)"
      ]
     },
     "execution_count": 4,
     "metadata": {},
     "output_type": "execute_result"
    }
   ],
   "source": [
    "data.shape"
   ]
  },
  {
   "cell_type": "code",
   "execution_count": 5,
   "id": "1e29b29f-d524-4944-bbf1-2b8e605324cf",
   "metadata": {},
   "outputs": [
    {
     "data": {
      "text/html": [
       "<div>\n",
       "<style scoped>\n",
       "    .dataframe tbody tr th:only-of-type {\n",
       "        vertical-align: middle;\n",
       "    }\n",
       "\n",
       "    .dataframe tbody tr th {\n",
       "        vertical-align: top;\n",
       "    }\n",
       "\n",
       "    .dataframe thead th {\n",
       "        text-align: right;\n",
       "    }\n",
       "</style>\n",
       "<table border=\"1\" class=\"dataframe\">\n",
       "  <thead>\n",
       "    <tr style=\"text-align: right;\">\n",
       "      <th></th>\n",
       "      <th>ID</th>\n",
       "      <th>customer_id</th>\n",
       "      <th>country_id</th>\n",
       "      <th>tbl_loan_id</th>\n",
       "      <th>lender_id</th>\n",
       "      <th>loan_type</th>\n",
       "      <th>Total_Amount</th>\n",
       "      <th>Total_Amount_to_Repay</th>\n",
       "      <th>disbursement_date</th>\n",
       "      <th>due_date</th>\n",
       "      <th>duration</th>\n",
       "      <th>New_versus_Repeat</th>\n",
       "      <th>Amount_Funded_By_Lender</th>\n",
       "      <th>Lender_portion_Funded</th>\n",
       "      <th>Lender_portion_to_be_repaid</th>\n",
       "      <th>target</th>\n",
       "    </tr>\n",
       "  </thead>\n",
       "  <tbody>\n",
       "    <tr>\n",
       "      <th>count</th>\n",
       "      <td>68654</td>\n",
       "      <td>68654.000000</td>\n",
       "      <td>68654</td>\n",
       "      <td>68654.000000</td>\n",
       "      <td>68654.000000</td>\n",
       "      <td>68654</td>\n",
       "      <td>6.865400e+04</td>\n",
       "      <td>6.865400e+04</td>\n",
       "      <td>68654</td>\n",
       "      <td>68654</td>\n",
       "      <td>68654.000000</td>\n",
       "      <td>68654</td>\n",
       "      <td>6.865400e+04</td>\n",
       "      <td>68654.000000</td>\n",
       "      <td>6.865400e+04</td>\n",
       "      <td>68654.000000</td>\n",
       "    </tr>\n",
       "    <tr>\n",
       "      <th>unique</th>\n",
       "      <td>68654</td>\n",
       "      <td>NaN</td>\n",
       "      <td>1</td>\n",
       "      <td>NaN</td>\n",
       "      <td>NaN</td>\n",
       "      <td>22</td>\n",
       "      <td>NaN</td>\n",
       "      <td>NaN</td>\n",
       "      <td>768</td>\n",
       "      <td>893</td>\n",
       "      <td>NaN</td>\n",
       "      <td>2</td>\n",
       "      <td>NaN</td>\n",
       "      <td>NaN</td>\n",
       "      <td>NaN</td>\n",
       "      <td>NaN</td>\n",
       "    </tr>\n",
       "    <tr>\n",
       "      <th>top</th>\n",
       "      <td>ID_266671248032267278</td>\n",
       "      <td>NaN</td>\n",
       "      <td>Kenya</td>\n",
       "      <td>NaN</td>\n",
       "      <td>NaN</td>\n",
       "      <td>Type_1</td>\n",
       "      <td>NaN</td>\n",
       "      <td>NaN</td>\n",
       "      <td>2022-07-16</td>\n",
       "      <td>2022-07-23</td>\n",
       "      <td>NaN</td>\n",
       "      <td>Repeat Loan</td>\n",
       "      <td>NaN</td>\n",
       "      <td>NaN</td>\n",
       "      <td>NaN</td>\n",
       "      <td>NaN</td>\n",
       "    </tr>\n",
       "    <tr>\n",
       "      <th>freq</th>\n",
       "      <td>1</td>\n",
       "      <td>NaN</td>\n",
       "      <td>68654</td>\n",
       "      <td>NaN</td>\n",
       "      <td>NaN</td>\n",
       "      <td>61723</td>\n",
       "      <td>NaN</td>\n",
       "      <td>NaN</td>\n",
       "      <td>938</td>\n",
       "      <td>940</td>\n",
       "      <td>NaN</td>\n",
       "      <td>68087</td>\n",
       "      <td>NaN</td>\n",
       "      <td>NaN</td>\n",
       "      <td>NaN</td>\n",
       "      <td>NaN</td>\n",
       "    </tr>\n",
       "    <tr>\n",
       "      <th>mean</th>\n",
       "      <td>NaN</td>\n",
       "      <td>254390.256780</td>\n",
       "      <td>NaN</td>\n",
       "      <td>263056.266248</td>\n",
       "      <td>266420.528462</td>\n",
       "      <td>NaN</td>\n",
       "      <td>1.483683e+04</td>\n",
       "      <td>1.563993e+04</td>\n",
       "      <td>NaN</td>\n",
       "      <td>NaN</td>\n",
       "      <td>8.544586</td>\n",
       "      <td>NaN</td>\n",
       "      <td>2.545663e+03</td>\n",
       "      <td>0.218679</td>\n",
       "      <td>2.652621e+03</td>\n",
       "      <td>0.018324</td>\n",
       "    </tr>\n",
       "    <tr>\n",
       "      <th>std</th>\n",
       "      <td>NaN</td>\n",
       "      <td>26642.719918</td>\n",
       "      <td>NaN</td>\n",
       "      <td>39486.661487</td>\n",
       "      <td>3590.999004</td>\n",
       "      <td>NaN</td>\n",
       "      <td>1.416499e+05</td>\n",
       "      <td>1.650784e+05</td>\n",
       "      <td>NaN</td>\n",
       "      <td>NaN</td>\n",
       "      <td>13.343145</td>\n",
       "      <td>NaN</td>\n",
       "      <td>1.192272e+04</td>\n",
       "      <td>0.129832</td>\n",
       "      <td>1.338006e+04</td>\n",
       "      <td>0.134120</td>\n",
       "    </tr>\n",
       "    <tr>\n",
       "      <th>min</th>\n",
       "      <td>NaN</td>\n",
       "      <td>145.000000</td>\n",
       "      <td>NaN</td>\n",
       "      <td>101323.000000</td>\n",
       "      <td>245684.000000</td>\n",
       "      <td>NaN</td>\n",
       "      <td>2.000000e+00</td>\n",
       "      <td>0.000000e+00</td>\n",
       "      <td>NaN</td>\n",
       "      <td>NaN</td>\n",
       "      <td>1.000000</td>\n",
       "      <td>NaN</td>\n",
       "      <td>0.000000e+00</td>\n",
       "      <td>0.000000</td>\n",
       "      <td>0.000000e+00</td>\n",
       "      <td>0.000000</td>\n",
       "    </tr>\n",
       "    <tr>\n",
       "      <th>25%</th>\n",
       "      <td>NaN</td>\n",
       "      <td>248945.750000</td>\n",
       "      <td>NaN</td>\n",
       "      <td>233942.250000</td>\n",
       "      <td>267278.000000</td>\n",
       "      <td>NaN</td>\n",
       "      <td>2.295000e+03</td>\n",
       "      <td>2.329000e+03</td>\n",
       "      <td>NaN</td>\n",
       "      <td>NaN</td>\n",
       "      <td>7.000000</td>\n",
       "      <td>NaN</td>\n",
       "      <td>2.340000e+02</td>\n",
       "      <td>0.118712</td>\n",
       "      <td>2.390000e+02</td>\n",
       "      <td>0.000000</td>\n",
       "    </tr>\n",
       "    <tr>\n",
       "      <th>50%</th>\n",
       "      <td>NaN</td>\n",
       "      <td>255361.000000</td>\n",
       "      <td>NaN</td>\n",
       "      <td>260305.500000</td>\n",
       "      <td>267278.000000</td>\n",
       "      <td>NaN</td>\n",
       "      <td>5.249000e+03</td>\n",
       "      <td>5.325000e+03</td>\n",
       "      <td>NaN</td>\n",
       "      <td>NaN</td>\n",
       "      <td>7.000000</td>\n",
       "      <td>NaN</td>\n",
       "      <td>9.150000e+02</td>\n",
       "      <td>0.300000</td>\n",
       "      <td>9.340000e+02</td>\n",
       "      <td>0.000000</td>\n",
       "    </tr>\n",
       "    <tr>\n",
       "      <th>75%</th>\n",
       "      <td>NaN</td>\n",
       "      <td>262269.250000</td>\n",
       "      <td>NaN</td>\n",
       "      <td>286962.750000</td>\n",
       "      <td>267278.000000</td>\n",
       "      <td>NaN</td>\n",
       "      <td>1.145000e+04</td>\n",
       "      <td>1.165000e+04</td>\n",
       "      <td>NaN</td>\n",
       "      <td>NaN</td>\n",
       "      <td>7.000000</td>\n",
       "      <td>NaN</td>\n",
       "      <td>2.272650e+03</td>\n",
       "      <td>0.300000</td>\n",
       "      <td>2.317000e+03</td>\n",
       "      <td>0.000000</td>\n",
       "    </tr>\n",
       "    <tr>\n",
       "      <th>max</th>\n",
       "      <td>NaN</td>\n",
       "      <td>312737.000000</td>\n",
       "      <td>NaN</td>\n",
       "      <td>375320.000000</td>\n",
       "      <td>267278.000000</td>\n",
       "      <td>NaN</td>\n",
       "      <td>2.300000e+07</td>\n",
       "      <td>2.541500e+07</td>\n",
       "      <td>NaN</td>\n",
       "      <td>NaN</td>\n",
       "      <td>1096.000000</td>\n",
       "      <td>NaN</td>\n",
       "      <td>1.600000e+06</td>\n",
       "      <td>1.168119</td>\n",
       "      <td>1.821338e+06</td>\n",
       "      <td>1.000000</td>\n",
       "    </tr>\n",
       "  </tbody>\n",
       "</table>\n",
       "</div>"
      ],
      "text/plain": [
       "                           ID    customer_id country_id    tbl_loan_id  \\\n",
       "count                   68654   68654.000000      68654   68654.000000   \n",
       "unique                  68654            NaN          1            NaN   \n",
       "top     ID_266671248032267278            NaN      Kenya            NaN   \n",
       "freq                        1            NaN      68654            NaN   \n",
       "mean                      NaN  254390.256780        NaN  263056.266248   \n",
       "std                       NaN   26642.719918        NaN   39486.661487   \n",
       "min                       NaN     145.000000        NaN  101323.000000   \n",
       "25%                       NaN  248945.750000        NaN  233942.250000   \n",
       "50%                       NaN  255361.000000        NaN  260305.500000   \n",
       "75%                       NaN  262269.250000        NaN  286962.750000   \n",
       "max                       NaN  312737.000000        NaN  375320.000000   \n",
       "\n",
       "            lender_id loan_type  Total_Amount  Total_Amount_to_Repay  \\\n",
       "count    68654.000000     68654  6.865400e+04           6.865400e+04   \n",
       "unique            NaN        22           NaN                    NaN   \n",
       "top               NaN    Type_1           NaN                    NaN   \n",
       "freq              NaN     61723           NaN                    NaN   \n",
       "mean    266420.528462       NaN  1.483683e+04           1.563993e+04   \n",
       "std       3590.999004       NaN  1.416499e+05           1.650784e+05   \n",
       "min     245684.000000       NaN  2.000000e+00           0.000000e+00   \n",
       "25%     267278.000000       NaN  2.295000e+03           2.329000e+03   \n",
       "50%     267278.000000       NaN  5.249000e+03           5.325000e+03   \n",
       "75%     267278.000000       NaN  1.145000e+04           1.165000e+04   \n",
       "max     267278.000000       NaN  2.300000e+07           2.541500e+07   \n",
       "\n",
       "       disbursement_date    due_date      duration New_versus_Repeat  \\\n",
       "count              68654       68654  68654.000000             68654   \n",
       "unique               768         893           NaN                 2   \n",
       "top           2022-07-16  2022-07-23           NaN       Repeat Loan   \n",
       "freq                 938         940           NaN             68087   \n",
       "mean                 NaN         NaN      8.544586               NaN   \n",
       "std                  NaN         NaN     13.343145               NaN   \n",
       "min                  NaN         NaN      1.000000               NaN   \n",
       "25%                  NaN         NaN      7.000000               NaN   \n",
       "50%                  NaN         NaN      7.000000               NaN   \n",
       "75%                  NaN         NaN      7.000000               NaN   \n",
       "max                  NaN         NaN   1096.000000               NaN   \n",
       "\n",
       "        Amount_Funded_By_Lender  Lender_portion_Funded  \\\n",
       "count              6.865400e+04           68654.000000   \n",
       "unique                      NaN                    NaN   \n",
       "top                         NaN                    NaN   \n",
       "freq                        NaN                    NaN   \n",
       "mean               2.545663e+03               0.218679   \n",
       "std                1.192272e+04               0.129832   \n",
       "min                0.000000e+00               0.000000   \n",
       "25%                2.340000e+02               0.118712   \n",
       "50%                9.150000e+02               0.300000   \n",
       "75%                2.272650e+03               0.300000   \n",
       "max                1.600000e+06               1.168119   \n",
       "\n",
       "        Lender_portion_to_be_repaid        target  \n",
       "count                  6.865400e+04  68654.000000  \n",
       "unique                          NaN           NaN  \n",
       "top                             NaN           NaN  \n",
       "freq                            NaN           NaN  \n",
       "mean                   2.652621e+03      0.018324  \n",
       "std                    1.338006e+04      0.134120  \n",
       "min                    0.000000e+00      0.000000  \n",
       "25%                    2.390000e+02      0.000000  \n",
       "50%                    9.340000e+02      0.000000  \n",
       "75%                    2.317000e+03      0.000000  \n",
       "max                    1.821338e+06      1.000000  "
      ]
     },
     "execution_count": 5,
     "metadata": {},
     "output_type": "execute_result"
    }
   ],
   "source": [
    "data.describe(include='all')"
   ]
  },
  {
   "cell_type": "code",
   "execution_count": 6,
   "id": "847ac9ab-d236-4eb1-beae-bdab7471d887",
   "metadata": {},
   "outputs": [
    {
     "data": {
      "text/plain": [
       "array(['Type_1', 'Type_7', 'Type_5', 'Type_4', 'Type_6', 'Type_14',\n",
       "       'Type_9', 'Type_10', 'Type_19', 'Type_16', 'Type_2', 'Type_11',\n",
       "       'Type_23', 'Type_18', 'Type_17', 'Type_12', 'Type_20', 'Type_13',\n",
       "       'Type_21', 'Type_15', 'Type_24', 'Type_22'], dtype=object)"
      ]
     },
     "execution_count": 6,
     "metadata": {},
     "output_type": "execute_result"
    }
   ],
   "source": [
    "data['loan_type'].unique()"
   ]
  },
  {
   "cell_type": "code",
   "execution_count": 7,
   "id": "57b4302d-c6ae-4bc1-864d-cf5a7aa6660e",
   "metadata": {},
   "outputs": [],
   "source": [
    "b = ['Type_1', 'Type_7', 'Type_5', 'Type_4', 'Type_6', 'Type_14',\n",
    "       'Type_9', 'Type_10', 'Type_19', 'Type_16', 'Type_2', 'Type_11',\n",
    "       'Type_23', 'Type_18', 'Type_17', 'Type_12', 'Type_20', 'Type_13',\n",
    "       'Type_21', 'Type_15', 'Type_24', 'Type_22']"
   ]
  },
  {
   "cell_type": "code",
   "execution_count": 8,
   "id": "294ba10e-e65d-4eae-9a07-bccec08fd022",
   "metadata": {},
   "outputs": [],
   "source": [
    "a = np.array(data['loan_type'].value_counts())\n",
    "a = a.reshape(-1,1)"
   ]
  },
  {
   "cell_type": "code",
   "execution_count": 9,
   "id": "05fa87bc-3cfd-4217-9aa9-ae65375d1bce",
   "metadata": {},
   "outputs": [],
   "source": [
    "defaulters_by_loan_type = data.groupby(['loan_type'])[['target']].sum()\n",
    "c = defaulters_by_loan_type.loc[b]\n",
    "c = np.array(c.values)"
   ]
  },
  {
   "cell_type": "code",
   "execution_count": 10,
   "id": "807f32ea-313f-4b61-96e1-c7045e5f22da",
   "metadata": {
    "scrolled": true
   },
   "outputs": [
    {
     "data": {
      "text/html": [
       "<div>\n",
       "<style scoped>\n",
       "    .dataframe tbody tr th:only-of-type {\n",
       "        vertical-align: middle;\n",
       "    }\n",
       "\n",
       "    .dataframe tbody tr th {\n",
       "        vertical-align: top;\n",
       "    }\n",
       "\n",
       "    .dataframe thead th {\n",
       "        text-align: right;\n",
       "    }\n",
       "</style>\n",
       "<table border=\"1\" class=\"dataframe\">\n",
       "  <thead>\n",
       "    <tr style=\"text-align: right;\">\n",
       "      <th></th>\n",
       "      <th>Loans</th>\n",
       "      <th>Defaulters</th>\n",
       "    </tr>\n",
       "  </thead>\n",
       "  <tbody>\n",
       "    <tr>\n",
       "      <th>Type_1</th>\n",
       "      <td>61723</td>\n",
       "      <td>520</td>\n",
       "    </tr>\n",
       "    <tr>\n",
       "      <th>Type_7</th>\n",
       "      <td>2790</td>\n",
       "      <td>235</td>\n",
       "    </tr>\n",
       "    <tr>\n",
       "      <th>Type_5</th>\n",
       "      <td>1521</td>\n",
       "      <td>122</td>\n",
       "    </tr>\n",
       "    <tr>\n",
       "      <th>Type_4</th>\n",
       "      <td>1235</td>\n",
       "      <td>152</td>\n",
       "    </tr>\n",
       "    <tr>\n",
       "      <th>Type_6</th>\n",
       "      <td>466</td>\n",
       "      <td>38</td>\n",
       "    </tr>\n",
       "    <tr>\n",
       "      <th>Type_14</th>\n",
       "      <td>357</td>\n",
       "      <td>71</td>\n",
       "    </tr>\n",
       "    <tr>\n",
       "      <th>Type_9</th>\n",
       "      <td>205</td>\n",
       "      <td>36</td>\n",
       "    </tr>\n",
       "    <tr>\n",
       "      <th>Type_10</th>\n",
       "      <td>99</td>\n",
       "      <td>12</td>\n",
       "    </tr>\n",
       "    <tr>\n",
       "      <th>Type_19</th>\n",
       "      <td>74</td>\n",
       "      <td>0</td>\n",
       "    </tr>\n",
       "    <tr>\n",
       "      <th>Type_16</th>\n",
       "      <td>42</td>\n",
       "      <td>0</td>\n",
       "    </tr>\n",
       "    <tr>\n",
       "      <th>Type_2</th>\n",
       "      <td>30</td>\n",
       "      <td>45</td>\n",
       "    </tr>\n",
       "    <tr>\n",
       "      <th>Type_11</th>\n",
       "      <td>23</td>\n",
       "      <td>2</td>\n",
       "    </tr>\n",
       "    <tr>\n",
       "      <th>Type_23</th>\n",
       "      <td>21</td>\n",
       "      <td>13</td>\n",
       "    </tr>\n",
       "    <tr>\n",
       "      <th>Type_18</th>\n",
       "      <td>18</td>\n",
       "      <td>1</td>\n",
       "    </tr>\n",
       "    <tr>\n",
       "      <th>Type_17</th>\n",
       "      <td>13</td>\n",
       "      <td>0</td>\n",
       "    </tr>\n",
       "    <tr>\n",
       "      <th>Type_12</th>\n",
       "      <td>12</td>\n",
       "      <td>1</td>\n",
       "    </tr>\n",
       "    <tr>\n",
       "      <th>Type_20</th>\n",
       "      <td>10</td>\n",
       "      <td>7</td>\n",
       "    </tr>\n",
       "    <tr>\n",
       "      <th>Type_13</th>\n",
       "      <td>4</td>\n",
       "      <td>0</td>\n",
       "    </tr>\n",
       "    <tr>\n",
       "      <th>Type_21</th>\n",
       "      <td>4</td>\n",
       "      <td>0</td>\n",
       "    </tr>\n",
       "    <tr>\n",
       "      <th>Type_15</th>\n",
       "      <td>3</td>\n",
       "      <td>3</td>\n",
       "    </tr>\n",
       "    <tr>\n",
       "      <th>Type_24</th>\n",
       "      <td>3</td>\n",
       "      <td>0</td>\n",
       "    </tr>\n",
       "    <tr>\n",
       "      <th>Type_22</th>\n",
       "      <td>1</td>\n",
       "      <td>0</td>\n",
       "    </tr>\n",
       "  </tbody>\n",
       "</table>\n",
       "</div>"
      ],
      "text/plain": [
       "         Loans  Defaulters\n",
       "Type_1   61723         520\n",
       "Type_7    2790         235\n",
       "Type_5    1521         122\n",
       "Type_4    1235         152\n",
       "Type_6     466          38\n",
       "Type_14    357          71\n",
       "Type_9     205          36\n",
       "Type_10     99          12\n",
       "Type_19     74           0\n",
       "Type_16     42           0\n",
       "Type_2      30          45\n",
       "Type_11     23           2\n",
       "Type_23     21          13\n",
       "Type_18     18           1\n",
       "Type_17     13           0\n",
       "Type_12     12           1\n",
       "Type_20     10           7\n",
       "Type_13      4           0\n",
       "Type_21      4           0\n",
       "Type_15      3           3\n",
       "Type_24      3           0\n",
       "Type_22      1           0"
      ]
     },
     "execution_count": 10,
     "metadata": {},
     "output_type": "execute_result"
    }
   ],
   "source": [
    "defaultion_by_loan_type = pd.DataFrame(data=np.concatenate((a, c), axis=1), columns=['Loans', 'Defaulters'], index=data['loan_type'].unique())\n",
    "defaultion_by_loan_type"
   ]
  },
  {
   "cell_type": "code",
   "execution_count": 11,
   "id": "8f1e92fc-29f5-407a-bdb0-a54eaddefe70",
   "metadata": {},
   "outputs": [
    {
     "data": {
      "text/plain": [
       "array([267278, 251804, 245684, 267277], dtype=int64)"
      ]
     },
     "execution_count": 11,
     "metadata": {},
     "output_type": "execute_result"
    }
   ],
   "source": [
    "data['lender_id'].unique()"
   ]
  },
  {
   "cell_type": "code",
   "execution_count": 12,
   "id": "37732163-2385-40fc-8eec-0f037d833777",
   "metadata": {},
   "outputs": [
    {
     "data": {
      "text/plain": [
       "267278    64653\n",
       "251804     3542\n",
       "267277      271\n",
       "245684      188\n",
       "Name: lender_id, dtype: int64"
      ]
     },
     "execution_count": 12,
     "metadata": {},
     "output_type": "execute_result"
    }
   ],
   "source": [
    "data['lender_id'].value_counts()"
   ]
  },
  {
   "cell_type": "code",
   "execution_count": 13,
   "id": "f00f4ab3-39a5-45ce-9db5-f48fde7b61f8",
   "metadata": {},
   "outputs": [
    {
     "data": {
      "text/html": [
       "<div>\n",
       "<style scoped>\n",
       "    .dataframe tbody tr th:only-of-type {\n",
       "        vertical-align: middle;\n",
       "    }\n",
       "\n",
       "    .dataframe tbody tr th {\n",
       "        vertical-align: top;\n",
       "    }\n",
       "\n",
       "    .dataframe thead th {\n",
       "        text-align: right;\n",
       "    }\n",
       "</style>\n",
       "<table border=\"1\" class=\"dataframe\">\n",
       "  <thead>\n",
       "    <tr style=\"text-align: right;\">\n",
       "      <th></th>\n",
       "      <th>target</th>\n",
       "    </tr>\n",
       "    <tr>\n",
       "      <th>lender_id</th>\n",
       "      <th></th>\n",
       "    </tr>\n",
       "  </thead>\n",
       "  <tbody>\n",
       "    <tr>\n",
       "      <th>267278</th>\n",
       "      <td>784</td>\n",
       "    </tr>\n",
       "    <tr>\n",
       "      <th>251804</th>\n",
       "      <td>316</td>\n",
       "    </tr>\n",
       "    <tr>\n",
       "      <th>267277</th>\n",
       "      <td>80</td>\n",
       "    </tr>\n",
       "    <tr>\n",
       "      <th>245684</th>\n",
       "      <td>78</td>\n",
       "    </tr>\n",
       "  </tbody>\n",
       "</table>\n",
       "</div>"
      ],
      "text/plain": [
       "           target\n",
       "lender_id        \n",
       "267278        784\n",
       "251804        316\n",
       "267277         80\n",
       "245684         78"
      ]
     },
     "execution_count": 13,
     "metadata": {},
     "output_type": "execute_result"
    }
   ],
   "source": [
    "data.groupby(['lender_id'])[['target']].sum().sort_values(by='target', ascending=False)"
   ]
  },
  {
   "cell_type": "code",
   "execution_count": 14,
   "id": "20612271-8c8a-4803-adf7-d369f2c5db89",
   "metadata": {},
   "outputs": [
    {
     "data": {
      "text/html": [
       "<div>\n",
       "<style scoped>\n",
       "    .dataframe tbody tr th:only-of-type {\n",
       "        vertical-align: middle;\n",
       "    }\n",
       "\n",
       "    .dataframe tbody tr th {\n",
       "        vertical-align: top;\n",
       "    }\n",
       "\n",
       "    .dataframe thead th {\n",
       "        text-align: right;\n",
       "    }\n",
       "</style>\n",
       "<table border=\"1\" class=\"dataframe\">\n",
       "  <thead>\n",
       "    <tr style=\"text-align: right;\">\n",
       "      <th></th>\n",
       "      <th>ID</th>\n",
       "      <th>customer_id</th>\n",
       "      <th>country_id</th>\n",
       "      <th>tbl_loan_id</th>\n",
       "      <th>lender_id</th>\n",
       "      <th>loan_type</th>\n",
       "      <th>Total_Amount</th>\n",
       "      <th>Total_Amount_to_Repay</th>\n",
       "      <th>disbursement_date</th>\n",
       "      <th>due_date</th>\n",
       "      <th>duration</th>\n",
       "      <th>New_versus_Repeat</th>\n",
       "      <th>Amount_Funded_By_Lender</th>\n",
       "      <th>Lender_portion_Funded</th>\n",
       "      <th>Lender_portion_to_be_repaid</th>\n",
       "    </tr>\n",
       "  </thead>\n",
       "  <tbody>\n",
       "    <tr>\n",
       "      <th>0</th>\n",
       "      <td>ID_269404226088267278</td>\n",
       "      <td>269404</td>\n",
       "      <td>Kenya</td>\n",
       "      <td>226088</td>\n",
       "      <td>267278</td>\n",
       "      <td>Type_1</td>\n",
       "      <td>1919.0</td>\n",
       "      <td>1989.0</td>\n",
       "      <td>2022-07-27</td>\n",
       "      <td>2022-08-03</td>\n",
       "      <td>7</td>\n",
       "      <td>Repeat Loan</td>\n",
       "      <td>575.7</td>\n",
       "      <td>0.300000</td>\n",
       "      <td>597.0</td>\n",
       "    </tr>\n",
       "    <tr>\n",
       "      <th>1</th>\n",
       "      <td>ID_255356300042267278</td>\n",
       "      <td>255356</td>\n",
       "      <td>Kenya</td>\n",
       "      <td>300042</td>\n",
       "      <td>267278</td>\n",
       "      <td>Type_1</td>\n",
       "      <td>2138.0</td>\n",
       "      <td>2153.0</td>\n",
       "      <td>2022-11-16</td>\n",
       "      <td>2022-11-23</td>\n",
       "      <td>7</td>\n",
       "      <td>Repeat Loan</td>\n",
       "      <td>0.0</td>\n",
       "      <td>0.000000</td>\n",
       "      <td>0.0</td>\n",
       "    </tr>\n",
       "    <tr>\n",
       "      <th>2</th>\n",
       "      <td>ID_257026243764267278</td>\n",
       "      <td>257026</td>\n",
       "      <td>Kenya</td>\n",
       "      <td>243764</td>\n",
       "      <td>267278</td>\n",
       "      <td>Type_1</td>\n",
       "      <td>8254.0</td>\n",
       "      <td>8304.0</td>\n",
       "      <td>2022-08-24</td>\n",
       "      <td>2022-08-31</td>\n",
       "      <td>7</td>\n",
       "      <td>Repeat Loan</td>\n",
       "      <td>207.0</td>\n",
       "      <td>0.025079</td>\n",
       "      <td>208.0</td>\n",
       "    </tr>\n",
       "    <tr>\n",
       "      <th>3</th>\n",
       "      <td>ID_264617299409267278</td>\n",
       "      <td>264617</td>\n",
       "      <td>Kenya</td>\n",
       "      <td>299409</td>\n",
       "      <td>267278</td>\n",
       "      <td>Type_1</td>\n",
       "      <td>3379.0</td>\n",
       "      <td>3379.0</td>\n",
       "      <td>2022-11-15</td>\n",
       "      <td>2022-11-22</td>\n",
       "      <td>7</td>\n",
       "      <td>Repeat Loan</td>\n",
       "      <td>1013.7</td>\n",
       "      <td>0.300000</td>\n",
       "      <td>1014.0</td>\n",
       "    </tr>\n",
       "    <tr>\n",
       "      <th>4</th>\n",
       "      <td>ID_247613296713267278</td>\n",
       "      <td>247613</td>\n",
       "      <td>Kenya</td>\n",
       "      <td>296713</td>\n",
       "      <td>267278</td>\n",
       "      <td>Type_1</td>\n",
       "      <td>120.0</td>\n",
       "      <td>120.0</td>\n",
       "      <td>2022-11-10</td>\n",
       "      <td>2022-11-17</td>\n",
       "      <td>7</td>\n",
       "      <td>Repeat Loan</td>\n",
       "      <td>36.0</td>\n",
       "      <td>0.300000</td>\n",
       "      <td>36.0</td>\n",
       "    </tr>\n",
       "  </tbody>\n",
       "</table>\n",
       "</div>"
      ],
      "text/plain": [
       "                      ID  customer_id country_id  tbl_loan_id  lender_id  \\\n",
       "0  ID_269404226088267278       269404      Kenya       226088     267278   \n",
       "1  ID_255356300042267278       255356      Kenya       300042     267278   \n",
       "2  ID_257026243764267278       257026      Kenya       243764     267278   \n",
       "3  ID_264617299409267278       264617      Kenya       299409     267278   \n",
       "4  ID_247613296713267278       247613      Kenya       296713     267278   \n",
       "\n",
       "  loan_type  Total_Amount  Total_Amount_to_Repay disbursement_date  \\\n",
       "0    Type_1        1919.0                 1989.0        2022-07-27   \n",
       "1    Type_1        2138.0                 2153.0        2022-11-16   \n",
       "2    Type_1        8254.0                 8304.0        2022-08-24   \n",
       "3    Type_1        3379.0                 3379.0        2022-11-15   \n",
       "4    Type_1         120.0                  120.0        2022-11-10   \n",
       "\n",
       "     due_date  duration New_versus_Repeat  Amount_Funded_By_Lender  \\\n",
       "0  2022-08-03         7       Repeat Loan                    575.7   \n",
       "1  2022-11-23         7       Repeat Loan                      0.0   \n",
       "2  2022-08-31         7       Repeat Loan                    207.0   \n",
       "3  2022-11-22         7       Repeat Loan                   1013.7   \n",
       "4  2022-11-17         7       Repeat Loan                     36.0   \n",
       "\n",
       "   Lender_portion_Funded  Lender_portion_to_be_repaid  \n",
       "0               0.300000                        597.0  \n",
       "1               0.000000                          0.0  \n",
       "2               0.025079                        208.0  \n",
       "3               0.300000                       1014.0  \n",
       "4               0.300000                         36.0  "
      ]
     },
     "execution_count": 14,
     "metadata": {},
     "output_type": "execute_result"
    }
   ],
   "source": [
    "test_data = pd.read_csv('Test.csv')\n",
    "test_data.head()"
   ]
  },
  {
   "cell_type": "code",
   "execution_count": 15,
   "id": "b380c05f-3764-4076-924c-3241daf0bb8e",
   "metadata": {},
   "outputs": [
    {
     "name": "stdout",
     "output_type": "stream",
     "text": [
      "<class 'pandas.core.frame.DataFrame'>\n",
      "RangeIndex: 18594 entries, 0 to 18593\n",
      "Data columns (total 15 columns):\n",
      " #   Column                       Non-Null Count  Dtype  \n",
      "---  ------                       --------------  -----  \n",
      " 0   ID                           18594 non-null  object \n",
      " 1   customer_id                  18594 non-null  int64  \n",
      " 2   country_id                   18594 non-null  object \n",
      " 3   tbl_loan_id                  18594 non-null  int64  \n",
      " 4   lender_id                    18594 non-null  int64  \n",
      " 5   loan_type                    18594 non-null  object \n",
      " 6   Total_Amount                 18594 non-null  float64\n",
      " 7   Total_Amount_to_Repay        18594 non-null  float64\n",
      " 8   disbursement_date            18594 non-null  object \n",
      " 9   due_date                     18594 non-null  object \n",
      " 10  duration                     18594 non-null  int64  \n",
      " 11  New_versus_Repeat            18594 non-null  object \n",
      " 12  Amount_Funded_By_Lender      18594 non-null  float64\n",
      " 13  Lender_portion_Funded        18594 non-null  float64\n",
      " 14  Lender_portion_to_be_repaid  18594 non-null  float64\n",
      "dtypes: float64(5), int64(4), object(6)\n",
      "memory usage: 2.1+ MB\n"
     ]
    }
   ],
   "source": [
    "test_data.info()"
   ]
  },
  {
   "cell_type": "code",
   "execution_count": 16,
   "id": "f515f61a-b4fb-4166-b7b8-80b88194df99",
   "metadata": {},
   "outputs": [
    {
     "data": {
      "text/plain": [
       "(18594, 15)"
      ]
     },
     "execution_count": 16,
     "metadata": {},
     "output_type": "execute_result"
    }
   ],
   "source": [
    "test_data.shape"
   ]
  },
  {
   "cell_type": "code",
   "execution_count": 17,
   "id": "758793c1-3efe-45bc-bc70-0af6e0a1a1d0",
   "metadata": {},
   "outputs": [
    {
     "data": {
      "text/plain": [
       "Kenya    15069\n",
       "Ghana     3525\n",
       "Name: country_id, dtype: int64"
      ]
     },
     "execution_count": 17,
     "metadata": {},
     "output_type": "execute_result"
    }
   ],
   "source": [
    "test_data['country_id'].value_counts()"
   ]
  },
  {
   "cell_type": "code",
   "execution_count": 18,
   "id": "075a9f07-afc3-4b86-9d0f-c33f1a0f0b9c",
   "metadata": {},
   "outputs": [
    {
     "data": {
      "text/plain": [
       "array(['Type_1', 'Type_7', 'Type_3', 'Type_2', 'Type_10', 'Type_6',\n",
       "       'Type_23', 'Type_14', 'Type_5', 'Type_4', 'Type_17', 'Type_9',\n",
       "       'Type_12', 'Type_8', 'Type_11', 'Type_18', 'Type_24', 'Type_22',\n",
       "       'Type_20', 'Type_15', 'Type_21', 'Type_13'], dtype=object)"
      ]
     },
     "execution_count": 18,
     "metadata": {},
     "output_type": "execute_result"
    }
   ],
   "source": [
    "test_data['loan_type'].unique()"
   ]
  },
  {
   "cell_type": "code",
   "execution_count": 19,
   "id": "60f4d17c-013d-4389-91a4-350b598e122d",
   "metadata": {},
   "outputs": [
    {
     "data": {
      "text/plain": [
       "{'Type_3', 'Type_8'}"
      ]
     },
     "execution_count": 19,
     "metadata": {},
     "output_type": "execute_result"
    }
   ],
   "source": [
    "d = ['Type_1', 'Type_7', 'Type_3', 'Type_2', 'Type_10', 'Type_6',\n",
    "       'Type_23', 'Type_14', 'Type_5', 'Type_4', 'Type_17', 'Type_9',\n",
    "       'Type_12', 'Type_8', 'Type_11', 'Type_18', 'Type_24', 'Type_22',\n",
    "       'Type_20', 'Type_15', 'Type_21', 'Type_13']\n",
    "e = set(d)\n",
    "f = set(b)\n",
    "e - f"
   ]
  },
  {
   "cell_type": "code",
   "execution_count": 20,
   "id": "2e7dae4e-62f0-439d-a839-6bd1cd5349ae",
   "metadata": {},
   "outputs": [
    {
     "data": {
      "text/plain": [
       "target                         1.000000\n",
       "duration                       0.189889\n",
       "Lender_portion_to_be_repaid    0.109517\n",
       "Amount_Funded_By_Lender        0.101845\n",
       "Total_Amount_to_Repay          0.087089\n",
       "Total_Amount                   0.086043\n",
       "Lender_portion_Funded          0.045418\n",
       "tbl_loan_id                    0.035068\n",
       "customer_id                    0.030659\n",
       "lender_id                     -0.166202\n",
       "Name: target, dtype: float64"
      ]
     },
     "execution_count": 20,
     "metadata": {},
     "output_type": "execute_result"
    }
   ],
   "source": [
    "corr_matrix = data.corr()\n",
    "corr_matrix['target'].sort_values(ascending=False)"
   ]
  },
  {
   "cell_type": "code",
   "execution_count": 21,
   "id": "f2bd5bfc-7b38-4550-9c72-af73d675b423",
   "metadata": {},
   "outputs": [
    {
     "data": {
      "image/png": "[encoded data removed]",
      "text/plain": [
       "<Figure size 1440x1080 with 12 Axes>"
      ]
     },
     "metadata": {
      "needs_background": "light"
     },
     "output_type": "display_data"
    }
   ],
   "source": [
    "%matplotlib inline\n",
    "data.hist(bins=50, figsize=(20, 15))\n",
    "plt.show()"
   ]
  },
  {
   "cell_type": "markdown",
   "id": "fd31db76-17b5-4768-8993-23790eb09460",
   "metadata": {},
   "source": [
    "### Feature Engineering"
   ]
  },
  {
   "cell_type": "code",
   "execution_count": 28,
   "id": "89328b61-2b97-45b5-a200-0aacd6f68af0",
   "metadata": {},
   "outputs": [],
   "source": [
    "date_cols = ['disbursement_date', 'due_date']\n",
    "for col in date_cols: \n",
    "    data[col] = pd.to_datetime(data[col])\n",
    "    # data[col+'_month'] = data[col].dt.month\n",
    "    # data[col+'_day'] = data[col].dt.day\n",
    "    # data[col+'_year'] = data[col].dt.year"
   ]
  },
  {
   "cell_type": "code",
   "execution_count": 29,
   "id": "c2efc4db-c716-477b-93f3-4ded59c52187",
   "metadata": {},
   "outputs": [
    {
     "data": {
      "text/plain": [
       "target                         1.000000\n",
       "duration                       0.189889\n",
       "Lender_portion_to_be_repaid    0.109517\n",
       "Amount_Funded_By_Lender        0.101845\n",
       "Total_Amount_to_Repay          0.087089\n",
       "Total_Amount                   0.086043\n",
       "Lender_portion_Funded          0.045418\n",
       "tbl_loan_id                    0.035068\n",
       "customer_id                    0.030659\n",
       "lender_id                     -0.166202\n",
       "Name: target, dtype: float64"
      ]
     },
     "execution_count": 29,
     "metadata": {},
     "output_type": "execute_result"
    }
   ],
   "source": [
    "corr_matrix = data.corr()\n",
    "corr_matrix['target'].sort_values(ascending=False)"
   ]
  },
  {
   "cell_type": "code",
   "execution_count": 30,
   "id": "ab636f3f-785b-4148-9bd6-67078624ff7f",
   "metadata": {},
   "outputs": [
    {
     "name": "stdout",
     "output_type": "stream",
     "text": [
      "<class 'pandas.core.frame.DataFrame'>\n",
      "RangeIndex: 68654 entries, 0 to 68653\n",
      "Data columns (total 16 columns):\n",
      " #   Column                       Non-Null Count  Dtype         \n",
      "---  ------                       --------------  -----         \n",
      " 0   ID                           68654 non-null  object        \n",
      " 1   customer_id                  68654 non-null  int64         \n",
      " 2   country_id                   68654 non-null  object        \n",
      " 3   tbl_loan_id                  68654 non-null  int64         \n",
      " 4   lender_id                    68654 non-null  int64         \n",
      " 5   loan_type                    68654 non-null  object        \n",
      " 6   Total_Amount                 68654 non-null  float64       \n",
      " 7   Total_Amount_to_Repay        68654 non-null  float64       \n",
      " 8   disbursement_date            68654 non-null  datetime64[ns]\n",
      " 9   due_date                     68654 non-null  datetime64[ns]\n",
      " 10  duration                     68654 non-null  int64         \n",
      " 11  New_versus_Repeat            68654 non-null  object        \n",
      " 12  Amount_Funded_By_Lender      68654 non-null  float64       \n",
      " 13  Lender_portion_Funded        68654 non-null  float64       \n",
      " 14  Lender_portion_to_be_repaid  68654 non-null  float64       \n",
      " 15  target                       68654 non-null  int64         \n",
      "dtypes: datetime64[ns](2), float64(5), int64(5), object(4)\n",
      "memory usage: 8.4+ MB\n"
     ]
    }
   ],
   "source": [
    "data.info()"
   ]
  },
  {
   "cell_type": "code",
   "execution_count": 31,
   "id": "3a6b1087-cdfe-4c56-8a92-175241d8995f",
   "metadata": {},
   "outputs": [
    {
     "data": {
      "text/plain": [
       "Index(['ID', 'customer_id', 'country_id', 'tbl_loan_id', 'lender_id',\n",
       "       'loan_type', 'Total_Amount', 'Total_Amount_to_Repay',\n",
       "       'disbursement_date', 'due_date', 'duration', 'New_versus_Repeat',\n",
       "       'Amount_Funded_By_Lender', 'Lender_portion_Funded',\n",
       "       'Lender_portion_to_be_repaid', 'target'],\n",
       "      dtype='object')"
      ]
     },
     "execution_count": 31,
     "metadata": {},
     "output_type": "execute_result"
    }
   ],
   "source": [
    "data.columns"
   ]
  },
  {
   "cell_type": "code",
   "execution_count": 87,
   "id": "97f34b0f-21d5-4b5f-9983-a8f26b5e5fae",
   "metadata": {},
   "outputs": [
    {
     "data": {
      "text/plain": [
       "['customer_id',\n",
       " 'tbl_loan_id',\n",
       " 'lender_id',\n",
       " 'Total_Amount',\n",
       " 'Total_Amount_to_Repay',\n",
       " 'duration',\n",
       " 'Amount_Funded_By_Lender',\n",
       " 'Lender_portion_Funded',\n",
       " 'Lender_portion_to_be_repaid']"
      ]
     },
     "execution_count": 87,
     "metadata": {},
     "output_type": "execute_result"
    }
   ],
   "source": [
    "num_data = [col for col in data.select_dtypes(include='number').columns if col not  in ['target']]\n",
    "num_data"
   ]
  },
  {
   "cell_type": "code",
   "execution_count": 95,
   "id": "8af45625-f830-4725-bf8f-3d15fc02fad7",
   "metadata": {},
   "outputs": [
    {
     "data": {
      "text/plain": [
       "['country_id',\n",
       " 'loan_type',\n",
       " 'disbursement_date',\n",
       " 'due_date',\n",
       " 'New_versus_Repeat',\n",
       " 'lender_id']"
      ]
     },
     "execution_count": 95,
     "metadata": {},
     "output_type": "execute_result"
    }
   ],
   "source": [
    "cat_data = [col for col in data.select_dtypes(include='object').columns if col not in ['ID']]\n",
    "cat_data.append('lender_id')\n",
    "cat_data"
   ]
  },
  {
   "cell_type": "markdown",
   "id": "8c58cf66-9bd1-49b5-b395-e4068afceb74",
   "metadata": {},
   "source": [
    "### Splitting the Train data"
   ]
  },
  {
   "cell_type": "code",
   "execution_count": 96,
   "id": "71d2bdd0-3bc1-430d-ba59-50d21ba7bad9",
   "metadata": {},
   "outputs": [],
   "source": [
    "from sklearn.model_selection import train_test_split\n",
    "X = data.drop(columns=['target'])\n",
    "y = data['target']\n",
    "X_train, X_valid, y_train, y_valid = train_test_split(X, y,  stratify=y, test_size=.2, random_state=42)"
   ]
  },
  {
   "cell_type": "code",
   "execution_count": 97,
   "id": "12248e1d-ba11-49af-a8e7-c79ed3f5d09c",
   "metadata": {},
   "outputs": [
    {
     "data": {
      "text/plain": [
       "(54923, 15)"
      ]
     },
     "execution_count": 97,
     "metadata": {},
     "output_type": "execute_result"
    }
   ],
   "source": [
    "X_train.shape"
   ]
  },
  {
   "cell_type": "code",
   "execution_count": 98,
   "id": "d5adde02-e528-458a-a35e-0685de2194a3",
   "metadata": {},
   "outputs": [],
   "source": [
    "from sklearn.pipeline import Pipeline\n",
    "from sklearn.compose import ColumnTransformer\n",
    "from sklearn.ensemble import RandomForestClassifier\n",
    "from sklearn.preprocessing import StandardScaler, OneHotEncoder\n",
    "from sklearn.linear_model import LogisticRegression\n",
    "\n",
    "data_num = ['Total_Amount', 'Total_Amount_to_Repay', 'duration', 'Amount_Funded_By_Lender', 'Lender_portion_Funded', 'Lender_portion_to_be_repaid']\n",
    "\n",
    "pipeline = ColumnTransformer([\n",
    "    (\"num\", StandardScaler(), data_num), \n",
    "    (\"cat\", OneHotEncoder(handle_unknown='ignore'), cat_data)\n",
    "])\n",
    "full_pipeline = Pipeline([\n",
    "    ('preprocess', pipeline), \n",
    "    ('classifier', RandomForestClassifier(random_state=42)),\n",
    "])"
   ]
  },
  {
   "cell_type": "code",
   "execution_count": 99,
   "id": "03571d01-6b42-4794-ae06-30325d64823a",
   "metadata": {},
   "outputs": [
    {
     "data": {
      "text/plain": [
       "Pipeline(steps=[('preprocess',\n",
       "                 ColumnTransformer(transformers=[('num', StandardScaler(),\n",
       "                                                  ['Total_Amount',\n",
       "                                                   'Total_Amount_to_Repay',\n",
       "                                                   'duration',\n",
       "                                                   'Amount_Funded_By_Lender',\n",
       "                                                   'Lender_portion_Funded',\n",
       "                                                   'Lender_portion_to_be_repaid']),\n",
       "                                                 ('cat',\n",
       "                                                  OneHotEncoder(handle_unknown='ignore'),\n",
       "                                                  ['country_id', 'loan_type',\n",
       "                                                   'disbursement_date',\n",
       "                                                   'due_date',\n",
       "                                                   'New_versus_Repeat',\n",
       "                                                   'lender_id'])])),\n",
       "                ('classifier', RandomForestClassifier(random_state=42))])"
      ]
     },
     "execution_count": 99,
     "metadata": {},
     "output_type": "execute_result"
    }
   ],
   "source": [
    "full_pipeline.fit(X_train, y_train)\n"
   ]
  },
  {
   "cell_type": "code",
   "execution_count": 100,
   "id": "c5641d9a-0500-44af-9e0e-53b74f9c6b57",
   "metadata": {},
   "outputs": [
    {
     "data": {
      "text/plain": [
       "0.9999817926915864"
      ]
     },
     "execution_count": 100,
     "metadata": {},
     "output_type": "execute_result"
    }
   ],
   "source": [
    "from sklearn.metrics import classification_report, confusion_matrix, accuracy_score, precision_score, recall_score\n",
    "\n",
    "y_pred = full_pipeline.predict(X_train)\n",
    "full_pipeline.score(X_train, y_train)"
   ]
  },
  {
   "cell_type": "code",
   "execution_count": 101,
   "id": "df0567bb-af76-4577-be39-65ee260a1843",
   "metadata": {},
   "outputs": [
    {
     "name": "stdout",
     "output_type": "stream",
     "text": [
      "              precision    recall  f1-score   support\n",
      "\n",
      "           0       1.00      1.00      1.00     53917\n",
      "           1       1.00      1.00      1.00      1006\n",
      "\n",
      "    accuracy                           1.00     54923\n",
      "   macro avg       1.00      1.00      1.00     54923\n",
      "weighted avg       1.00      1.00      1.00     54923\n",
      "\n"
     ]
    }
   ],
   "source": [
    "print(classification_report(y_train, y_pred))"
   ]
  },
  {
   "cell_type": "code",
   "execution_count": 102,
   "id": "4baa5bc8-d2c9-43af-8edb-23f068fc4443",
   "metadata": {},
   "outputs": [
    {
     "data": {
      "text/plain": [
       "0.9836865486854562"
      ]
     },
     "execution_count": 102,
     "metadata": {},
     "output_type": "execute_result"
    }
   ],
   "source": [
    "full_pipeline.score(X_valid, y_valid)"
   ]
  },
  {
   "cell_type": "code",
   "execution_count": 103,
   "id": "94048baa-5c76-41ea-8f13-23da5e3a67da",
   "metadata": {},
   "outputs": [
    {
     "name": "stdout",
     "output_type": "stream",
     "text": [
      "              precision    recall  f1-score   support\n",
      "\n",
      "           0       0.99      1.00      0.99     13479\n",
      "           1       0.68      0.21      0.32       252\n",
      "\n",
      "    accuracy                           0.98     13731\n",
      "   macro avg       0.83      0.60      0.65     13731\n",
      "weighted avg       0.98      0.98      0.98     13731\n",
      "\n"
     ]
    }
   ],
   "source": [
    "val_pred = full_pipeline.predict(X_valid)\n",
    "print(classification_report(y_valid, val_pred))"
   ]
  },
  {
   "cell_type": "code",
   "execution_count": null,
   "id": "21b02522-e056-4c5c-a063-2fd1665c21f1",
   "metadata": {},
   "outputs": [],
   "source": []
  }
 ],
 "metadata": {
  "firstTimeUsingHintbot": true,
  "kernelspec": {
   "display_name": "Python 3 (ipykernel)",
   "language": "python",
   "name": "python3"
  },
  "language_info": {
   "codemirror_mode": {
    "name": "ipython",
    "version": 3
   },
   "file_extension": ".py",
   "mimetype": "text/x-python",
   "name": "python",
   "nbconvert_exporter": "python",
   "pygments_lexer": "ipython3",
   "version": "3.9.7"
  }
 },
 "nbformat": 4,
 "nbformat_minor": 5
}
